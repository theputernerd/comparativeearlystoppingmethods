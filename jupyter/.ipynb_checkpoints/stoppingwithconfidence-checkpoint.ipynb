{
 "cells": [
  {
   "cell_type": "markdown",
   "metadata": {
    "collapsed": true
   },
   "source": [
    "# Predicting a Winner with Confidence\n",
    "Do you have two players and want to know if one player is better than the other? You could play them against each other in a competition of $N$ games and see if one player wins significantly more games than the other - but how many games is _significantly more_? How can you be confident that one player is better than the other and that it was not just luck? The answer is **[Hypothesis testing](https://www.investopedia.com/terms/h/hypothesistesting.asp)**. \n",
    "\n",
    "In this notebook I'll show you how to apply hypothesis testing to a compeition of $N$ games to compare two computer game players. Depending on the outcome of the trial, you will be able to claim a level of confidence in your prediction that one player is better than the other.  \n",
    "\n",
    "I have included references at the end which might help you out if you need a deeper dive on this topic, otherwise the method is straight forward and easy to utilise if you follow each step.  "
   ]
  },
  {
   "cell_type": "markdown",
   "metadata": {},
   "source": [
    "## Introduction\n",
    "Hypothesis testing is used to rule out pure chance being the cause of an effect. For instance if a new drug is being tested on a number of patients and they show a level of improvement, hypothesis testing provides a mechanism to scientificially determine whether the drug caused the improvement or not. There are many forms of hypothesis testing, however we concern outselves only with [hypothesis testing for a proportion](https://stattrek.com/hypothesis-test/proportion.aspx). "
   ]
  },
  {
   "cell_type": "markdown",
   "metadata": {},
   "source": [
    "## Defining the Problem\n",
    "In our competition between a player and the opponent we can measure how many wins $w$ each player has had, and we know how many games they have played $n$. From this we can obtain an estimate of the players probabilty of winning $\\tilde{p}=\\frac{w}{n}$ against their opponent. Note that $\\tilde{p}=1-\\tilde{q}$ i.e. the sum of both player's probabilities of winning equals 1 because when one of the players wins a game, the other player loses that game. We exclude draws from our competition, since they provide no insight into whether one player is better or not. If a game is drawn, then it is struck from the record as if it never existed. Because $p=1-q$ we only need to perform calculations on one of the players, and can trivially infer the outcome for the other player. For this reason I generally only refer to one of the players. \n",
    "\n",
    "Hidden from us each player has a true probability of winning $p$, and what we hope to achieve is that by conducting the competition for $N$ games our estimate of $\\tilde{p}$ is sufficiently accurate that we can declare one player is better than the other - if that is actually the case. \n",
    "\n"
   ]
  },
  {
   "cell_type": "markdown",
   "metadata": {},
   "source": [
    "### Setting up our Hypothesis\n",
    "Lets assume that we know the true probability of the two players and they are of equal strength, $p=q=0.5$, then after playing a large number of games $n$ we would expect the number of wins for the player to be $w \\approx 0.5 n$ - lets call this our hypothesis. If our hypothesis doesn't hold and the number of wins was significantly different from $0.5 n$ then we could dismiss the idea that both players were equal and declare that one player was better than the other. This is essential the underlying mechanics of hypothesis testing. Importantly, if after $n$ games we observed $w \\approx 0.5 n$ as predicted by our hypothesis, we cannot declare that the players are equal, only that the players are not significantly different after $n$ games. To highlight why we can never prove our hypothesis, imagine if the true probability was $p=0.499999$, this would mean that one player was actually slightly better than the player. After a large number of games we might observe $w \\approx 0.5 n$, but we have no way of knowing whether or not we have conducted enough games to differentiate such a small difference.    \n",
    "\n",
    "To formally define our Hypothesis test we call the hypothesis which we are trying to disprove the _null hypothesis_ $H_0$ and the _alternate hypothesis_ is $H_a$. In our case;\n",
    "\n",
    "$H_0:p=0.5$ and \n",
    "$H_a:p\\neq 0.5$\n",
    "\n",
    "We also have; \n",
    "\n",
    "$\\tilde{p}=\\frac{w}{n}$ where $\\tilde{p}$ is the predicted probability of winning a game for a player, $w$ is the number of wins and $n$ is the number of games played.  \n",
    "\n",
    "After $n$ games, if $\\tilde{p}$ is significantly different from $0.5$ we will reject $H_0$ and accept $H_a:p\\neq 0.5$.\n"
   ]
  },
  {
   "cell_type": "markdown",
   "metadata": {},
   "source": [
    "## How do we determine significance?\n",
    "Now that we have formally defined our hypothesis how do we determine if a difference is significant?\n",
    "\n",
    "A [_Brenoulli trial_](https://en.wikipedia.org/wiki/Bernoulli_trial) is an experiment with two outcomes, in our case a _win_ and _loss_. Winning and losing are mutually exclusive which requires that $p=1-q$ and if we define a win as $1$ and loss as $0$ for $n$ games then we can represent the Bernoulli trial as a binomial distribution $B(n,p)$ and doing so allows us to visualise the trial. For this example let compare how the distribution changes if the probability is the same, but the number of samples varies.  We'll plot $n=50$ and $n=1000$ with $p=0.65$ giving $B(50,0.65)$ and $B(1000,0.65)$, we can plot the probability mass function (PMF) in python relatively easily using scipy.stats. The [PMF](https://www.probabilitycourse.com/chapter3/3_1_3_pmf.php) gives the probabilities of possible values for a discrete random variable.  \n",
    "\n"
   ]
  },
  {
   "cell_type": "code",
   "execution_count": 34,
   "metadata": {},
   "outputs": [
    {
     "data": {
      "image/png": "[encoded data removed]",
      "text/plain": [
       "<Figure size 432x288 with 2 Axes>"
      ]
     },
     "metadata": {
      "needs_background": "light"
     },
     "output_type": "display_data"
    }
   ],
   "source": [
    "from scipy.stats import binom\n",
    "import matplotlib.pyplot as plt\n",
    "import numpy as np\n",
    "#############First plot with n=100 p=0.65\n",
    "n, p = 50, 0.65\n",
    "plt.subplot(1,2, 1)\n",
    "mean, var, skew, kurt = binom.stats(n, p, moments='mvsk')\n",
    "x = np.arange(binom.ppf(0.0001, n, p),\n",
    "              binom.ppf(0.9999, n, p))\n",
    "y=binom.pmf(x, n, p)\n",
    "\n",
    "\n",
    "plt.plot(x/n, y, 'b.', ms=8)\n",
    "x1,x2,y1,y2 = plt.axis()\n",
    "plt.axis((.4,.9,y1,y2))\n",
    "plt.xlabel(r\"Probability of Success $p$\")\n",
    "plt.ylabel(\"Probability Mass\")\n",
    "plt.title(r\"$B(50,0.65)$\")\n",
    "\n",
    "#############Second plot with n=10000 p=0.65\n",
    "n, p = 1000, 0.65\n",
    "plt.subplot(1,2, 2)\n",
    "mean, var, skew, kurt = binom.stats(n, p, moments='mvsk')\n",
    "x = np.arange(binom.ppf(0.0001, n, p),\n",
    "              binom.ppf(0.9999, n, p))\n",
    "y=binom.pmf(x, n, p)\n",
    "\n",
    "plt.plot(x/n, y, 'b.', ms=8)\n",
    "x1,x2,y1,y2 = plt.axis()\n",
    "plt.axis((.4,.9,y1,y2))\n",
    "plt.xlabel(r\"Probability of Success $p$\")\n",
    "plt.ylabel(\"Probability Mass\")\n",
    "#plt.title('Probability Mass Function')\n",
    "plt.title(r\"$B(1000,0.65)$\")\n",
    "plt.tight_layout(pad=0.4, w_pad=0.5, h_pad=1.0)\n",
    "plt.show()"
   ]
  },
  {
   "cell_type": "markdown",
   "metadata": {},
   "source": [
    "We can see from these two plots that the higher value of $n$ the narrower the distribution and both plots peak at $p=0.65$.\n",
    "\n",
    "Since the PMF plots indicate the probabilities of possible values of $p$ we can accumulate the probabilities of various $p$ to sum to any desired probability, say for example having 5% of the probability mass residing to the left of some $p$ value and 95% residing on the other. The [scipy.binom.ppf](https://docs.scipy.org/doc/scipy/reference/generated/scipy.stats.binom.html) function allows us to achieve this.  \n"
   ]
  },
  {
   "cell_type": "code",
   "execution_count": 38,
   "metadata": {},
   "outputs": [
    {
     "name": "stdout",
     "output_type": "stream",
     "text": [
      "\n"
     ]
    },
    {
     "data": {
      "image/png": "[encoded data removed]",
      "text/plain": [
       "<Figure size 432x288 with 1 Axes>"
      ]
     },
     "metadata": {
      "needs_background": "light"
     },
     "output_type": "display_data"
    },
    {
     "name": "stdout",
     "output_type": "stream",
     "text": [
      "The Lower Confidence is: 0.57\n"
     ]
    }
   ],
   "source": [
    "from scipy.stats import binom\n",
    "import matplotlib.pyplot as plt\n",
    "import numpy as np\n",
    "fig, ax = plt.subplots(1, 1)\n",
    "\n",
    "n, p = 100, 0.65\n",
    "mean, var, skew, kurt = binom.stats(n, p, moments='mvsk')\n",
    "x = np.arange(binom.ppf(0.0001, n, p),\n",
    "              binom.ppf(0.9999, n, p))\n",
    "y=binom.pmf(x, n, p)\n",
    "lc = binom.ppf(0.05, n, p)/n\n",
    "#uc = binom.ppf(0.95, n, p)/n\n",
    "#print(f\"{lc}-{uc}\")\n",
    "\n",
    "lcbx = np.arange(binom.ppf(0.001, n, p),binom.ppf(0.027, n, p))\n",
    "lcby=binom.pmf(lcbx, n, p)\n",
    "#ucbx = np.arange(binom.ppf(0.974, n, p),binom.ppf(0.999, n, p))\n",
    "#ucby=binom.pmf(ucbx, n, p)\n",
    "print()\n",
    "lw=3\n",
    "ax.plot(x/n, y, 'b.', ms=8)\n",
    "ax.vlines(x/n, 0, y, colors='b', lw=lw, alpha=0.1)\n",
    "ax.vlines(lcbx/n, 0, lcby, colors='r', lw=lw, alpha=0.5)\n",
    "#ax.vlines(ucbx/n, 0, ucby, colors='g', lw=lw, alpha=0.5)\n",
    "plt.xlabel(\"Probability of Success\")\n",
    "plt.ylabel(\"Probability Mass\")\n",
    "plt.title('Probability Mass Function')\n",
    "\n",
    "rv = binom(n, p)\n",
    "#ax.vlines(x/n, 0, rv.pmf(x), colors='k', linestyles='-', lw=1,\n",
    "#        label='frozen pmf')\n",
    "#ax.legend(loc='best', frameon=False)\n",
    "plt.grid(True)\n",
    "#plt.ylim([0,0.042])\n",
    "#plt.xlim([0.4,.6])\n",
    "\n",
    "fig.savefig(f\"PMF_deltaLessThanPoint1.pdf\", format='pdf', dpi=5000)\n",
    "plt.show()\n",
    "\n",
    "print(f\"The Lower Confidence is: {lc}\")"
   ]
  },
  {
   "cell_type": "markdown",
   "metadata": {},
   "source": [
    "What we have achieved with this code is identified the value of $p=0.57$ where 5% of the probablity mass is below this value, i.e. the red shaded values total 0.05. That is to say that there is a 95% probability that the true value of $p$ is greater than 0.57. We call this value the lower confidence bound. The cumulative probability mass $\\alpha=0.05$ is the error rate and $1-\\alpha=0.95$ is the confidence level.\n",
    "\n"
   ]
  }
 ],
 "metadata": {
  "kernelspec": {
   "display_name": "Python 3",
   "language": "python",
   "name": "python3"
  },
  "language_info": {
   "codemirror_mode": {
    "name": "ipython",
    "version": 3
   },
   "file_extension": ".py",
   "mimetype": "text/x-python",
   "name": "python",
   "nbconvert_exporter": "python",
   "pygments_lexer": "ipython3",
   "version": "3.6.5"
  }
 },
 "nbformat": 4,
 "nbformat_minor": 1
}
